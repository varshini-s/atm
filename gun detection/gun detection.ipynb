{
 "cells": [
  {
   "cell_type": "code",
   "execution_count": 1,
   "metadata": {},
   "outputs": [
    {
     "name": "stdout",
     "output_type": "stream",
     "text": [
      "guns detected\n"
     ]
    }
   ],
   "source": [
    "import numpy as np \n",
    "import cv2 \n",
    "import imutils \n",
    "import datetime \n",
    "\n",
    "\n",
    "gun_cascade = cv2.CascadeClassifier('cascade.xml') \n",
    "camera = cv2.VideoCapture(0) \n",
    "\n",
    "firstFrame = None\n",
    "gun_exist = False\n",
    "\n",
    "while True: \n",
    "\n",
    "    ret, frame = camera.read() \n",
    "\n",
    "    frame = imutils.resize(frame, width = 500) \n",
    "    gray = cv2.cvtColor(frame, cv2.COLOR_BGR2GRAY) \n",
    "    \n",
    "    gun = gun_cascade.detectMultiScale(gray, 1.3, 5, minSize = (100, 100)) \n",
    "    if len(gun) > 0: \n",
    "        gun_exist = True\n",
    "\n",
    "    for (x, y, w, h) in gun: \n",
    "\n",
    "        frame = cv2.rectangle(frame, (x, y), (x + w, y + h), (255, 0, 0), 2) \n",
    "        roi_gray = gray[y:y + h, x:x + w] \n",
    "        roi_color = frame[y:y + h, x:x + w]\t \n",
    "\n",
    "    if firstFrame is None: \n",
    "        firstFrame = gray \n",
    "        continue\n",
    "\n",
    "    # print(datetime.date(2019)) \n",
    "    # draw the text and timestamp on the frame \n",
    "    cv2.putText(frame, datetime.datetime.now().strftime(\"%m/%d/%Y, %H:%M:%S\"), \n",
    "                (10, frame.shape[0] - 10), \n",
    "                cv2.FONT_HERSHEY_SIMPLEX, \n",
    "                0.35, (0, 0, 255), 1) \n",
    "\n",
    "    cv2.imshow(\"Security Feed\", frame) \n",
    "    key = cv2.waitKey(1) & 0xFF\n",
    "\n",
    "    if key == ord('q'): \n",
    "        break\n",
    "\n",
    "if gun_exist: \n",
    "    print(\"guns detected\") \n",
    "else: \n",
    "    print(\"guns NOT detected\") \n",
    "\n",
    "camera.release() \n",
    "cv2.destroyAllWindows() \n"
   ]
  },
  {
   "cell_type": "code",
   "execution_count": null,
   "metadata": {},
   "outputs": [],
   "source": []
  },
  {
   "cell_type": "code",
   "execution_count": null,
   "metadata": {},
   "outputs": [],
   "source": []
  }
 ],
 "metadata": {
  "kernelspec": {
   "display_name": "Python 3",
   "language": "python",
   "name": "python3"
  },
  "language_info": {
   "codemirror_mode": {
    "name": "ipython",
    "version": 3
   },
   "file_extension": ".py",
   "mimetype": "text/x-python",
   "name": "python",
   "nbconvert_exporter": "python",
   "pygments_lexer": "ipython3",
   "version": "3.7.4"
  }
 },
 "nbformat": 4,
 "nbformat_minor": 2
}
